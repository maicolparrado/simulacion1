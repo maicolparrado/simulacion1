{
 "cells": [
  {
   "cell_type": "code",
   "execution_count": null,
   "metadata": {
    "collapsed": true
   },
   "outputs": [],
   "source": [
    "import numpy as np\n",
    "import matplotlib.pyplot as plt\n",
    "from collections import deque\n",
    "\n",
    "def main():\n",
    "    la=5\n",
    "    mu=3\n",
    "    si=2\n",
    "    l=np.random.poisson(la)\n",
    "    m=np.random.uniform(mu,si)\n",
    "    ts=2 #Tiempo que dura en el sistema\n",
    "    num_iteraciones=3\n",
    "    cola=deque([])\n",
    "    sistema=deque([])\n",
    "    atendidos=deque([])\n",
    "    elemento=1\n",
    "    for i in range(0,num_iteraciones):\n",
    "        l=int(np.random.poisson(la))\n",
    "        m=int(np.random.uniform(mu,si))\n",
    "        for k in range(1,l+1):\n",
    "            cola.append(\"Elemento \"+str(elemento))\n",
    "            elemento=elemento+1\n",
    "        for k in range(1,m+1):\n",
    "            sistema.append(cola.popleft())\n",
    "        if(i%ts==0):\n",
    "            for k in range(1,m+1):\n",
    "                atendidos.append(sistema.popleft())\n",
    "        print(\"\\nl: \"+str(l)+\" m:\"+str(m)+\" cola: \"+str(len(cola))+\" sistema: \"+str(len(sistema))+\" atendidos: \"+str(len(atendidos)))\n",
    "        print(\"\\nCola\")\n",
    "        for k in range(0,len(cola)):\n",
    "            print(cola[k])\n",
    "        print(\"\\nSistema\")\n",
    "        for k in range(0,len(sistema)):\n",
    "            print(sistema[k])\n",
    "        print(\"\\nAtendidos\")\n",
    "        for k in range(0,len(atendidos)):\n",
    "            print(atendidos[k])\n",
    "\n",
    "if __name__ == \"__main__\":\n",
    "    main()"
   ]
  }
 ],
 "metadata": {
  "kernelspec": {
   "display_name": "Python 2",
   "language": "python",
   "name": "python2"
  }
 },
 "nbformat": 4,
 "nbformat_minor": 0
}
