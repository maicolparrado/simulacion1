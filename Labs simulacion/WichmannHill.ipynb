{
 "cells": [
  {
   "cell_type": "code",
   "execution_count": 7,
   "metadata": {
    "collapsed": false
   },
   "outputs": [
    {
     "name": "stdout",
     "output_type": "stream",
     "text": [
      "Introduzca el valor semilla para el primer generador\n",
      "  X0 = 5\n",
      "Introduzca el valor semilla para el segundo generador\n",
      "  Y0 = 3\n",
      "Introduzca el valor semilla para el tercer generador\n",
      "  Z0 = 2\n",
      "Itroduzca la cantidad de numeros aleatorios a generar: 10\n",
      "U0 = 0.0564851015814\n",
      "U1 = 0.664765529148\n",
      "U2 = 0.697194008412\n",
      "U3 = 0.866089295804\n",
      "U4 = 0.287362458499\n",
      "U5 = 0.261554570702\n",
      "U6 = 0.290499803065\n",
      "U7 = 0.723340425565\n",
      "U8 = 0.165607016431\n",
      "U9 = 0.722907255888\n"
     ]
    }
   ],
   "source": [
    "import sys\n",
    "def Wichmannhill(X0, Y0, Z0,can):\n",
    "    \n",
    "    for i in range(0,can):\n",
    "                    xi = (171*X0)%30269\n",
    "                    yi = (172*Y0)%30307\n",
    "                    zi = (170*Z0)%30323\n",
    "                    ui = (xi/30269.0 + yi/30307.0 + zi/30323.0)%1 \n",
    "                    print \"U\" + str(i) + \" = \" + str(ui)\n",
    "                    X0 = xi\n",
    "                    Y0 = yi\n",
    "                    Z0 = zi\n",
    "\n",
    "    \n",
    "def main ():    \n",
    "     X0 = input(\"Introduzca el valor semilla para el primer generador\\n  X0 = \")\n",
    "     Y0 = input(\"Introduzca el valor semilla para el segundo generador\\n  Y0 = \")\n",
    "     Z0 = input(\"Introduzca el valor semilla para el tercer generador\\n  Z0 = \")\n",
    "     can = input(\"Itroduzca la cantidad de numeros aleatorios a generar: \")\n",
    "     Wichmannhill(X0, Y0, Z0, can )\n",
    "        \n",
    "\n",
    "        \n",
    "\n",
    "\n",
    "if __name__ == \"__main__\":\n",
    "    main()\n"
   ]
  },
  {
   "cell_type": "code",
   "execution_count": null,
   "metadata": {
    "collapsed": true
   },
   "outputs": [],
   "source": []
  },
  {
   "cell_type": "code",
   "execution_count": null,
   "metadata": {
    "collapsed": true
   },
   "outputs": [],
   "source": []
  }
 ],
 "metadata": {
  "kernelspec": {
   "display_name": "Python 2",
   "language": "python",
   "name": "python2"
  },
  "language_info": {
   "codemirror_mode": {
    "name": "ipython",
    "version": 2
   },
   "file_extension": ".py",
   "mimetype": "text/x-python",
   "name": "python",
   "nbconvert_exporter": "python",
   "pygments_lexer": "ipython2",
   "version": "2.7.11"
  }
 },
 "nbformat": 4,
 "nbformat_minor": 0
}
