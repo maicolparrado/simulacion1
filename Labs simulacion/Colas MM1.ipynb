{
 "cells": [
  {
   "cell_type": "code",
   "execution_count": 1,
   "metadata": {
    "collapsed": false
   },
   "outputs": [
    {
     "name": "stdout",
     "output_type": "stream",
     "text": [
      "tasa servicio: 8\n",
      "tasa llegadas: 3\n",
      "uso del sistema (P):  0.375\n",
      "cantidad de personas en el sistema (Ls):  0.6\n",
      "tiempo en el sistema (Ws):  0.2\n",
      "cantidad de personas en la cola (Lq):  0.225\n",
      "cantidad de tiempo en la cola (Wq):  0.075\n",
      "probabilidad sistema se encuentre desocupado (Po):  0.625\n"
     ]
    }
   ],
   "source": [
    "miu = float(input(\"tasa servicio: \"))\n",
    "landa = float(input(\"tasa llegadas: \"))\n",
    "\n",
    "p = float(0)\n",
    "ls = float(0)\n",
    "ws = float(0)\n",
    "lq = float(0)\n",
    "wq = float(0)\n",
    "po = float(0)\n",
    "\n",
    "p = landa / miu\n",
    "ls = landa / (miu - landa)\n",
    "ws = 1 / (miu - landa)\n",
    "lq = (landa*landa)/(miu*(miu - landa))\n",
    "wq = landa / (miu*(miu - landa))\n",
    "po = 1 - p \n",
    "    \n",
    "print \"uso del sistema (P): \",p\n",
    "print \"cantidad de personas en el sistema (Ls): \",ls\n",
    "print \"tiempo en el sistema (Ws): \",ws\n",
    "print \"cantidad de personas en la cola (Lq): \",lq\n",
    "print \"cantidad de tiempo en la cola (Wq): \",wq\n",
    "print \"probabilidad sistema se encuentre desocupado (Po): \",po"
   ]
  },
  {
   "cell_type": "code",
   "execution_count": null,
   "metadata": {
    "collapsed": true
   },
   "outputs": [],
   "source": []
  }
 ],
 "metadata": {
  "kernelspec": {
   "display_name": "Python 2",
   "language": "python",
   "name": "python2"
  },
  "language_info": {
   "codemirror_mode": {
    "name": "ipython",
    "version": 2
   },
   "file_extension": ".py",
   "mimetype": "text/x-python",
   "name": "python",
   "nbconvert_exporter": "python",
   "pygments_lexer": "ipython2",
   "version": "2.7.11"
  }
 },
 "nbformat": 4,
 "nbformat_minor": 0
}
