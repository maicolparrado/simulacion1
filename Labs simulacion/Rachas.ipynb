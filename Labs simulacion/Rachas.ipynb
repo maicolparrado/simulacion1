{
 "cells": [
  {
   "cell_type": "code",
   "execution_count": null,
   "metadata": {
    "collapsed": false
   },
   "outputs": [],
   "source": [
    "import numpy as np\n",
    "import matplotlib.pyplot as plt\n",
    "import math\n",
    "\n",
    "def Rachas (canpart, x, a, c, secuencia=[]):    \n",
    "    \n",
    "    \n",
    "    m = float (math.pow(2,16)+1)\n",
    "    can = 1000\n",
    "    periodo = 0\n",
    "    bandera = 0\n",
    "    rachas = []           \n",
    "    rachas.append(' ')    \n",
    "\n",
    "    \n",
    "    while(can != periodo):\n",
    "        if(periodo == 0):\n",
    "            bandera = x\n",
    "        x = (a * x + c) % m\n",
    "        y = x / m\n",
    "        periodo = periodo + 1\n",
    "        secuencia.append(y)\n",
    "\n",
    "\n",
    "\n",
    "    for i in range(1, len(secuencia)):\n",
    "        rachas.append(0)\n",
    "        \n",
    "\n",
    "    for i in range(0, len(secuencia) - 1):\n",
    "        if secuencia [i + 1] > secuencia[i]:\n",
    "            rachas[i + 1] = 1\n",
    "    print '\\nRachas = ' + str(rachas)\n",
    "    \n",
    "\n",
    "    numRachas = 0\n",
    "    print (rachas[0])\n",
    "    for i in range(1, len(rachas) - 1):\n",
    "        if rachas[i + 1] != rachas[i]:\n",
    "            numRachas += 1\n",
    "    numRachas += 1\n",
    "    print 'Numero de rachas= ' + str(numRachas) + '\\n'\n",
    "        \n",
    "\n",
    "    n = len(lista)\n",
    "    z = (numRachas - ((2 * n - 1) / float(3))) / (math.sqrt(( 16 * n - 29)/float(90)))\n",
    "    print 'Z = ' + str(z)\n",
    "\n",
    "def main ():\n",
    "    canpart = 11 \n",
    "    secuencia = []\n",
    "    x = float(raw_input(\"Introduzca el valor de la semilla: \"))\n",
    "    a = float(raw_input(\"Introduzca el valor del multiplicador: \"))\n",
    "    c = float(raw_input(\"Introduzca el valor de la constante aditiva: \"))\n",
    "    Chicuadrado(canpart, x, a, c, secuencia=[])\n",
    "    \n",
    "\n",
    "if __name__ == \"__main__\":\n",
    "    main()  \n"
   ]
  },
  {
   "cell_type": "code",
   "execution_count": null,
   "metadata": {
    "collapsed": true
   },
   "outputs": [],
   "source": []
  }
 ],
 "metadata": {
  "kernelspec": {
   "display_name": "Python 2",
   "language": "python",
   "name": "python2"
  },
  "language_info": {
   "codemirror_mode": {
    "name": "ipython",
    "version": 2
   },
   "file_extension": ".py",
   "mimetype": "text/x-python",
   "name": "python",
   "nbconvert_exporter": "python",
   "pygments_lexer": "ipython2",
   "version": "2.7.11"
  }
 },
 "nbformat": 4,
 "nbformat_minor": 0
}
