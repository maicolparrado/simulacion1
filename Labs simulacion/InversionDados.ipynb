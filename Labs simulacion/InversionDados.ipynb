{
 "cells": [
  {
   "cell_type": "code",
   "execution_count": null,
   "metadata": {
    "collapsed": false
   },
   "outputs": [],
   "source": [
    "import numpy as np\n",
    "import matplotlib.pyplot as plt\n",
    "\n",
    "def Metodomixto1(x1,mod1):\n",
    "    a1 = 171\n",
    "    b1 = 0\n",
    "    x1 = (a1 * x1 + b1) % mod1\n",
    "    return x1\n",
    "\n",
    "def Metodomixto2(x2,mod2):\n",
    "    a2 = 172\n",
    "    b2 = 0\n",
    "\n",
    "    x2 = (a2 * x2 + b2) % mod2\n",
    "    return x2\n",
    "\n",
    "def Metodomixto3(x3,mod3):\n",
    "    a3 = 170\n",
    "    b3 = 0\n",
    "\n",
    "    x3 = (a3 * x3 + b3) % mod3\n",
    "    return x3\n",
    "\n",
    "def valorU(x1,y1,z1,mod1,mod2,mod3):\n",
    "\n",
    "    u=((x1/mod1) + (y1/mod2) + (z1/mod3)) % 1\n",
    "    return u\n",
    "\n",
    "def listadoAleatorio(cantidad):\n",
    "    mod1=30269.0\n",
    "    mod2=30307.0\n",
    "    mod3=30323.0\n",
    "\n",
    "    x1 = 15.0\n",
    "    x2 = 27.0\n",
    "    x3 = 76.0\n",
    "    u=[]\n",
    "    while cantidad>0:\n",
    "        x1=Metodomixto1(x1,mod1)\n",
    "        x2=Metodomixto2(x2,mod2)\n",
    "        x3=Metodomixto3(x3,mod3)\n",
    "        v=valorU(x1,x2,x3,mod1,mod2,mod3)\n",
    "        u.append(v)\n",
    "        cantidad = cantidad-1\n",
    "\n",
    "    return u\n",
    "\n",
    "def main():\n",
    "\n",
    "    cantidad = int(input('cuantas veces desea lanzar los dados: '))\n",
    "\n",
    "    aleatorios=listadoAleatorio(cantidad)\n",
    "\n",
    "    x=[1,2,3,4,5,6,7,8,9,10,11,12,13]\n",
    "    y=1,[2,3,4,5,6,7,8,9]\n",
    "    acumulada2=[1.0]\n",
    "    acumulada=[1.0/36.0,3.0/36.0,6.0/36.0,10.0/36.0,15.0/36.0,21.0/36.0,26.0/36.0,30.0/36.0,33.0/36.0,35.0/36.0,1.0]\n",
    "\n",
    "\n",
    "    for aleatorio in aleatorios:\n",
    "        i=0\n",
    "        for elemento in acumulada:\n",
    "            if aleatorio <= elemento:\n",
    "                print x[i],\n",
    "                break\n",
    "            i=i+1\n",
    "   \n",
    "\n",
    "if __name__ == \"__main__\":\n",
    "    main()"
   ]
  },
  {
   "cell_type": "code",
   "execution_count": null,
   "metadata": {
    "collapsed": true
   },
   "outputs": [],
   "source": []
  },
  {
   "cell_type": "code",
   "execution_count": null,
   "metadata": {
    "collapsed": true
   },
   "outputs": [],
   "source": []
  },
  {
   "cell_type": "code",
   "execution_count": null,
   "metadata": {
    "collapsed": true
   },
   "outputs": [],
   "source": []
  },
  {
   "cell_type": "code",
   "execution_count": null,
   "metadata": {
    "collapsed": true
   },
   "outputs": [],
   "source": []
  }
 ],
 "metadata": {
  "kernelspec": {
   "display_name": "Python 2",
   "language": "python",
   "name": "python2"
  },
  "language_info": {
   "codemirror_mode": {
    "name": "ipython",
    "version": 2
   },
   "file_extension": ".py",
   "mimetype": "text/x-python",
   "name": "python",
   "nbconvert_exporter": "python",
   "pygments_lexer": "ipython2",
   "version": "2.7.11"
  }
 },
 "nbformat": 4,
 "nbformat_minor": 0
}
