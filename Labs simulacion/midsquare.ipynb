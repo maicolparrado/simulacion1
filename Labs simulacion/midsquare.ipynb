{
 "cells": [
  {
   "cell_type": "code",
   "execution_count": 3,
   "metadata": {
    "collapsed": false
   },
   "outputs": [
    {
     "ename": "IndentationError",
     "evalue": "unexpected indent (<ipython-input-3-e80eab0b585b>, line 8)",
     "output_type": "error",
     "traceback": [
      "\u001b[1;36m  File \u001b[1;32m\"<ipython-input-3-e80eab0b585b>\"\u001b[1;36m, line \u001b[1;32m8\u001b[0m\n\u001b[1;33m    print(semillacuadrada)\u001b[0m\n\u001b[1;37m    ^\u001b[0m\n\u001b[1;31mIndentationError\u001b[0m\u001b[1;31m:\u001b[0m unexpected indent\n"
     ]
    }
   ],
   "source": [
    "import math\n",
    "def metodomidsquare(semilla,cantidad):\n",
    "\n",
    "    semillacuadrada = 0\n",
    "\n",
    "for i in (0,cantidad,1):\n",
    " semillacuadrada= semilla*semilla\n",
    "    print(semillacuadrada)\n",
    "    \n",
    " def main():\n",
    "    semilla = float(raw_input(\"Introduzca el valor de la semilla\"))\n",
    "    cantidad= float(rawjj_input(\"Intrduzca el valor de la cantidad\"))\n",
    "    metodomidsquare(semilla,cantidad)\n",
    "    \n",
    " if _name_ == \"_main_\"\n",
    "   main()"
   ]
  },
  {
   "cell_type": "code",
   "execution_count": null,
   "metadata": {
    "collapsed": true
   },
   "outputs": [],
   "source": []
  }
 ],
 "metadata": {
  "kernelspec": {
   "display_name": "Python 2",
   "language": "python",
   "name": "python2"
  },
  "language_info": {
   "codemirror_mode": {
    "name": "ipython",
    "version": 2
   },
   "file_extension": ".py",
   "mimetype": "text/x-python",
   "name": "python",
   "nbconvert_exporter": "python",
   "pygments_lexer": "ipython2",
   "version": "2.7.11"
  }
 },
 "nbformat": 4,
 "nbformat_minor": 0
}
