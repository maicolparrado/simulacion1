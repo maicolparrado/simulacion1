{
 "cells": [
  {
   "cell_type": "code",
   "execution_count": null,
   "metadata": {
    "collapsed": false
   },
   "outputs": [],
   "source": [
    "x0 = float(input(\"Semilla: \"))\n",
    "n = int(input(\"Cuantos valores desea: \"))\n",
    "\n",
    "longitud_x0 = len(str(x0))\n",
    "\n",
    "if longitud_x0 %2 == 0:\n",
    "    for i in range(0,n):\n",
    "        numCuadrado = str(x0**2)\n",
    "        if len(numCuadrado) < 2*longitud_x0:\n",
    "            cantidadDeCerosPorAgregar = 2*longitud_x0 - len(numCuadrado)\n",
    "            cadenaDeCeros = \"\" \n",
    "            for ii in range(0,cantidadDeCerosPorAgregar):\n",
    "                cadenaDeCeros = '0' + cadenaDeCeros\n",
    "                numCuadrado = cadenaDeCeros + numCuadrado\n",
    "        #print \"Numero cuadrado\" + str(i) + \" = \" + numCuadrado\n",
    "        xi = numCuadrado[ int (0.5*longitud_x0) : int (0.5*longitud_x0 + longitud_x0) ]\n",
    "        #print \"X\" + str(i) + \" = \" + xi\n",
    "        ui = '0.'+ xi\n",
    "        #secuencia.append(ui)\n",
    "        print \"N\" + str(i) + \" = \" + ui\n",
    "        x0 = int(xi)\n",
    "else: \n",
    "    print 'MidSquareError: Debe ingresar un valor de semilla con un numero de cifras PAR. \\n'"
   ]
  },
  {
   "cell_type": "code",
   "execution_count": null,
   "metadata": {
    "collapsed": true
   },
   "outputs": [],
   "source": []
  },
  {
   "cell_type": "code",
   "execution_count": null,
   "metadata": {
    "collapsed": true
   },
   "outputs": [],
   "source": []
  },
  {
   "cell_type": "code",
   "execution_count": null,
   "metadata": {
    "collapsed": true
   },
   "outputs": [],
   "source": []
  }
 ],
 "metadata": {
  "kernelspec": {
   "display_name": "Python 2",
   "language": "python",
   "name": "python2"
  },
  "language_info": {
   "codemirror_mode": {
    "name": "ipython",
    "version": 2
   },
   "file_extension": ".py",
   "mimetype": "text/x-python",
   "name": "python",
   "nbconvert_exporter": "python",
   "pygments_lexer": "ipython2",
   "version": "2.7.11"
  }
 },
 "nbformat": 4,
 "nbformat_minor": 0
}
