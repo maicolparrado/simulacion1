{
 "cells": [
  {
   "cell_type": "code",
   "execution_count": 2,
   "metadata": {
    "collapsed": false,
    "scrolled": true
   },
   "outputs": [
    {
     "name": "stdout",
     "output_type": "stream",
     "text": [
      "Introduce el valor de la semilla: 7\n",
      "Introduce el valor del multiplicador: 5\n",
      "Introduce el valor de la constante aditiva: 3\n",
      "Introduce el valor del modulo: 16\n",
      "Introduce la cantidad de numeros aleatorios: 20\n",
      "6.0\n",
      "(0, 0.375)\n",
      "1.0\n",
      "(1, 0.0625)\n",
      "8.0\n",
      "(2, 0.5)\n",
      "11.0\n",
      "(3, 0.6875)\n",
      "10.0\n",
      "(4, 0.625)\n",
      "5.0\n",
      "(5, 0.3125)\n",
      "12.0\n",
      "(6, 0.75)\n",
      "15.0\n",
      "(7, 0.9375)\n",
      "14.0\n",
      "(8, 0.875)\n",
      "9.0\n",
      "(9, 0.5625)\n",
      "0.0\n",
      "(10, 0.0)\n",
      "3.0\n",
      "(11, 0.1875)\n",
      "2.0\n",
      "(12, 0.125)\n",
      "13.0\n",
      "(13, 0.8125)\n",
      "4.0\n",
      "(14, 0.25)\n",
      "7.0\n",
      "(15, 0.4375)\n",
      "6.0\n",
      "(16, 0.375)\n",
      "1.0\n",
      "(17, 0.0625)\n",
      "8.0\n",
      "(18, 0.5)\n",
      "11.0\n",
      "(19, 0.6875)\n"
     ]
    }
   ],
   "source": [
    "from matplotlib.pylab import hist, show\n",
    "\n",
    "\n",
    "def Metodomixto(x, a, b, mod,c):\n",
    "\n",
    "    datos=[]\n",
    "    periodo = 0\n",
    "    bandera = 0\n",
    " \n",
    "    while(c != periodo):\n",
    "        if (periodo == 0):\n",
    "            bandera = x\n",
    "        x = (a * x + b) % mod\n",
    "        y = x/mod;\n",
    "        print(x)\n",
    "        print(periodo,y)\n",
    "        periodo = periodo + 1\n",
    "        \n",
    "        datos.append(y)\n",
    "        hist(datos,periodo, (0,1))\n",
    "        show()\n",
    "        \n",
    "def main():\n",
    "  \n",
    "    x = float(raw_input(\"Introduce el valor de la semilla: \"))\n",
    "    a = float(raw_input(\"Introduce el valor del multiplicador: \"))\n",
    "    b = float(raw_input(\"Introduce el valor de la constante aditiva: \"))\n",
    "    m = float(raw_input(\"Introduce el valor del modulo: \"))\n",
    "    c = int(raw_input(\"Introduce la cantidad de numeros aleatorios: \"))\n",
    "    Metodomixto(x,a,b,m,c)\n",
    "    \n",
    "        \n",
    " \n",
    "if __name__ == \"__main__\":\n",
    "    main()\n"
   ]
  },
  {
   "cell_type": "code",
   "execution_count": null,
   "metadata": {
    "collapsed": true
   },
   "outputs": [],
   "source": []
  },
  {
   "cell_type": "code",
   "execution_count": null,
   "metadata": {
    "collapsed": true
   },
   "outputs": [],
   "source": []
  },
  {
   "cell_type": "code",
   "execution_count": null,
   "metadata": {
    "collapsed": true
   },
   "outputs": [],
   "source": []
  },
  {
   "cell_type": "code",
   "execution_count": null,
   "metadata": {
    "collapsed": true
   },
   "outputs": [],
   "source": []
  }
 ],
 "metadata": {
  "kernelspec": {
   "display_name": "Python 2",
   "language": "python",
   "name": "python2"
  },
  "language_info": {
   "codemirror_mode": {
    "name": "ipython",
    "version": 2
   },
   "file_extension": ".py",
   "mimetype": "text/x-python",
   "name": "python",
   "nbconvert_exporter": "python",
   "pygments_lexer": "ipython2",
   "version": "2.7.11"
  }
 },
 "nbformat": 4,
 "nbformat_minor": 0
}
