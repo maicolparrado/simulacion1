{
 "cells": [
  {
   "cell_type": "code",
   "execution_count": null,
   "metadata": {
    "collapsed": false
   },
   "outputs": [],
   "source": [
    "import numpy as np\n",
    "import matplotlib.pyplot as plt\n",
    "import math\n",
    "\n",
    "def Kolgomorov_smirnov(x, a, b, mod,can):\n",
    "\n",
    "    secuencia=[]\n",
    "    periodo = 0\n",
    "    bandera = 0\n",
    " \n",
    "    while(can != periodo):\n",
    "        if (periodo == 0):\n",
    "            bandera = x\n",
    "        x = (a * x + b) % mod\n",
    "        y = x/mod;\n",
    "        periodo = periodo + 1\n",
    "        secuencia.append(y)\n",
    "\n",
    "\n",
    "        N = len(secuencia)\n",
    "        u = [1.0] * N\n",
    "\n",
    "\n",
    "\n",
    "    count, bins, ignored = plt.hist(secuencia, 25, normed=True)\n",
    "    plt.plot(bins, np.ones_like(bins), linewidth=2, color='r')\n",
    "    plt.show()\n",
    "    \n",
    "    x1 = np.arange(1/float(N), 1+1/float(N) , 1/float(N))\n",
    "    y1 = np.cumsum(np.sort(u)/np.max(np.cumsum(u)))\n",
    "    \n",
    "    x2 = np.sort(secuencia)\n",
    "    y2 = np.cumsum(np.sort(secuencia)/np.max(np.cumsum(secuencia)))\n",
    "    \n",
    "    De=np.absolute(y2-y1)\n",
    "    print(\"De = \",np.max(De))\n",
    "    \n",
    "\n",
    "    plt.plot(x1,y1,label='Uniforme')\n",
    "    plt.step(x2,y2,label='Aleatoria')\n",
    "    x3 = [x1[De.argmax()],x1[De.argmax()]]\n",
    "    y3 = [np.min([y1[De.argmax()],y2[De.argmax()]]),np.max([y1[De.argmax()],y2[De.argmax()]])]\n",
    "    plt.step(x3,y3,label='D')\n",
    "    plt.legend()\n",
    "    plt.xlabel('X')\n",
    "    plt.ylabel('Probabilidad Acumulada P(X)')\n",
    "    plt.ylim(0, 1.05)\n",
    "    plt.show()\n",
    "    \n",
    "\n",
    "    from scipy import stats\n",
    "    D,pvalue = stats.kstest(y2, 'uniforme')\n",
    "    print(\"D = \", D)\n",
    "    print(\"p-value = \", pvalue)\n",
    "\n",
    "def main():\n",
    "  \n",
    "    x = float(raw_input(\"Introduce el valor de la semilla: \"))\n",
    "    a = float(raw_input(\"Introduce el valor del multiplicador: \"))\n",
    "    b = float(raw_input(\"Introduce el valor de la constante aditiva: \"))\n",
    "    mod = float(raw_input(\"Introduce el valor del modulo: \"))\n",
    "    can = int(raw_input(\"Introduce la cantidad de numeros aleatorios: \"))\n",
    "    Kolgomorov_smirnov(x, a, b, mod,c)\n",
    "    \n",
    "if __name__ == \"__main__\":\n",
    "    main() \n",
    "    "
   ]
  },
  {
   "cell_type": "code",
   "execution_count": null,
   "metadata": {
    "collapsed": true
   },
   "outputs": [],
   "source": []
  }
 ],
 "metadata": {
  "kernelspec": {
   "display_name": "Python 2",
   "language": "python",
   "name": "python2"
  },
  "language_info": {
   "codemirror_mode": {
    "name": "ipython",
    "version": 2
   },
   "file_extension": ".py",
   "mimetype": "text/x-python",
   "name": "python",
   "nbconvert_exporter": "python",
   "pygments_lexer": "ipython2",
   "version": "2.7.11"
  }
 },
 "nbformat": 4,
 "nbformat_minor": 0
}
