{
 "cells": [
  {
   "cell_type": "code",
   "execution_count": null,
   "metadata": {
    "collapsed": false
   },
   "outputs": [],
   "source": [
    "def Metodomixto(x, a, b, mod):\n",
    "\n",
    " \n",
    "    periodo = 0\n",
    "    bandera = 0\n",
    " \n",
    "    while(bandera != x):\n",
    "        if (periodo == 0):\n",
    "            bandera = x\n",
    "        x = (a * x + b) % mod\n",
    "        y = x/mod;\n",
    "        print(y)\n",
    "        periodo = periodo + 1\n",
    " \n",
    "    if(periodo == mod):\n",
    "        print(\"El periodo es completo: \", periodo)\n",
    "    else:\n",
    "        print(\"El periodo es incompleto:\", periodo)\n",
    " \n",
    "def main():\n",
    "    x = float(raw_input(\"Introduzca el valor de la semilla: \"))\n",
    "    a = float(raw_input(\"Introduzca el valor del multiplicador: \"))\n",
    "    b = float(raw_input(\"Introduzca el valor de la constante aditiva: \"))\n",
    "    m = float(raw_input(\"Introduzca el valor del modulo: \"))\n",
    "    Metodomixto(x,a,b,m)\n",
    " \n",
    "if __name__ == \"__main__\":\n",
    "    main()"
   ]
  },
  {
   "cell_type": "code",
   "execution_count": null,
   "metadata": {
    "collapsed": true
   },
   "outputs": [],
   "source": []
  }
 ],
 "metadata": {
  "kernelspec": {
   "display_name": "Python 2",
   "language": "python",
   "name": "python2"
  },
  "language_info": {
   "codemirror_mode": {
    "name": "ipython",
    "version": 2
   },
   "file_extension": ".py",
   "mimetype": "text/x-python",
   "name": "python",
   "nbconvert_exporter": "python",
   "pygments_lexer": "ipython2",
   "version": "2.7.11"
  }
 },
 "nbformat": 4,
 "nbformat_minor": 0
}
