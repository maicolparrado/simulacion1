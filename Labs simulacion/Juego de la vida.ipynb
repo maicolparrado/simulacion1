{
 "cells": [
  {
   "cell_type": "code",
   "execution_count": 11,
   "metadata": {
    "collapsed": false
   },
   "outputs": [
    {
     "name": "stdout",
     "output_type": "stream",
     "text": [
      "Bienvenido al juego de la vida\n",
      "Filas -- 2\n",
      "Columnas -- 2\n",
      "@ @ \n",
      ". . \n",
      "\n"
     ]
    }
   ],
   "source": [
    "import random\n",
    "import itertools\n",
    "import time\n",
    "\n",
    "\n",
    "class JuegoVida(object):\n",
    "\n",
    "    def __init__(self, filas, columnas):\n",
    "\n",
    "        self.filas = filas\n",
    "        self.columnas = columnas\n",
    "\n",
    "        fila_vida = lambda: [random.randint(0, 1) for n in range(self.columnas)]\n",
    "        self.juego = [fila_vida() for n in range(self.filas)]\n",
    "\n",
    "    def __str__(self):\n",
    "\n",
    "        juego = ''\n",
    "\n",
    "        for fila in self.juego:\n",
    "            for celula in fila:\n",
    "                    juego += '@ ' if celula else '. '\n",
    "            juego += '\\n'\n",
    "        return juego\n",
    "\n",
    "    def vecinos(self, nf, nc):\n",
    "\n",
    "        distancias_vecinos = list(\n",
    "            set(itertools.permutations([-1, -1, 1, 1, 0], 2))\n",
    "            )\n",
    "\n",
    "        fuera_de_juego = lambda x, y: not (x in range(self.filas) and y in range(self.columnas))\n",
    "\n",
    "        vecinos = 0\n",
    "\n",
    "        for dist_fila, dist_columna in distancias_vecinos:\n",
    "                if not fuera_de_juego(nf + dist_fila, nc + dist_columna):\n",
    "                        vecinos += 1 if self.juego[nf + dist_fila][nc + dist_columna] else 0\n",
    "\n",
    "        return vecinos\n",
    "\n",
    "    def recorrer(self):\n",
    "\n",
    "            for nf in range(self.filas):\n",
    "                    for nc in range(self.columnas):\n",
    "                            vecinos = self.vecinos(nf, nc)\n",
    "\n",
    "                            if vecinos < 2 or vecinos > 3:\n",
    "                                    self.juego[nf][nc] = 0\n",
    "                            elif vecinos == 3:\n",
    "                                    self.juego[nf][nc] = 1\n",
    "\n",
    "    def main():\n",
    "            \n",
    "            print(\"Bienvenido al juego de la vida\")\n",
    "\n",
    "            filas, columnas = int(input(\"Filas -- \")), int(input(\"Columnas -- \"))\n",
    "\n",
    "            juego = JuegoVida(filas, columnas)\n",
    "\n",
    "           \n",
    "            print(juego)\n",
    "            juego.recorrer()\n",
    "            time.sleep(0.5)\n",
    "\n",
    "if __name__ == '__main__':\n",
    "\tmain()"
   ]
  },
  {
   "cell_type": "code",
   "execution_count": null,
   "metadata": {
    "collapsed": true
   },
   "outputs": [],
   "source": []
  }
 ],
 "metadata": {
  "kernelspec": {
   "display_name": "Python 2",
   "language": "python",
   "name": "python2"
  },
  "language_info": {
   "codemirror_mode": {
    "name": "ipython",
    "version": 2
   },
   "file_extension": ".py",
   "mimetype": "text/x-python",
   "name": "python",
   "nbconvert_exporter": "python",
   "pygments_lexer": "ipython2",
   "version": "2.7.11"
  }
 },
 "nbformat": 4,
 "nbformat_minor": 0
}
