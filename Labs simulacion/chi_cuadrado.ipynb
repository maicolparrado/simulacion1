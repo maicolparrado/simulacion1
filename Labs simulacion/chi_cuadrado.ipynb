{
 "cells": [
  {
   "cell_type": "code",
   "execution_count": null,
   "metadata": {
    "collapsed": false
   },
   "outputs": [],
   "source": [
    "import numpy as np\n",
    "import matplotlib.pyplot as plt\n",
    "import math\n",
    "\n",
    "def Chicuadrado (canpart, x, a, c, secuencia=[]):\n",
    "\n",
    "  \n",
    "    m = float (math.pow(2,16)+1)\n",
    "    can = 1000\n",
    "    periodo = 0\n",
    "    bandera = 0\n",
    " \n",
    "\n",
    "    while(can != periodo):\n",
    "        if(periodo == 0):\n",
    "            bandera = x\n",
    "        x = (a * x + c) % m\n",
    "        y = x / m\n",
    "        periodo = periodo + 1\n",
    "        secuencia.append(y)\n",
    "    \n",
    "\n",
    "    longitudIntervalo = 1 / float(canpart) \n",
    "    frecuenciasObservadas = []           \n",
    "\n",
    "\n",
    "    for i in range(0,canpart):\n",
    "        frecuenciasObservadas.append(0)\n",
    "    \n",
    "\n",
    "   \n",
    " \n",
    "    for i in range(len(secuencia)):\n",
    "        cont = 1\n",
    "        for j in range(0,canpart):     \n",
    "            if secuencia[i] > (cont - 1) * longitudIntervalo and secuencia[i] <= cont * longitudIntervalo:\n",
    "                frecuenciasObservadas[j] += 1\n",
    "            cont += 1 \n",
    "            \n",
    "\n",
    "        \n",
    "    frecuenciaEsperada = len(secuencia) / float(cantpart)\n",
    "    estimadoJiCuadrado = 0.0\n",
    "        \n",
    "    for i in range(0,canpart):\n",
    "        estimadoJiCuadrado += (frecuenciasObservadas[i] - frecuenciaEsperada)**2 / frecuenciaEsperada\n",
    "    print estimadoJiCuadrado\n",
    " \n",
    "\n",
    "    \n",
    "    \n",
    "def main ():\n",
    "    canpart = 11 \n",
    "    secuencia = []\n",
    "    x = float(raw_input(\"Introduzca el valor de la semilla: \"))\n",
    "    a = float(raw_input(\"Introduzca el valor del multiplicador: \"))\n",
    "    c = float(raw_input(\"Introduzca el valor de la constante aditiva: \"))\n",
    "    Chicuadrado(canpart, x, a, c, secuencia=[])\n",
    "\n",
    "\n",
    "if __name__ == \"__main__\":\n",
    "    main()   "
   ]
  },
  {
   "cell_type": "code",
   "execution_count": null,
   "metadata": {
    "collapsed": true
   },
   "outputs": [],
   "source": []
  },
  {
   "cell_type": "code",
   "execution_count": null,
   "metadata": {
    "collapsed": true
   },
   "outputs": [],
   "source": []
  },
  {
   "cell_type": "code",
   "execution_count": null,
   "metadata": {
    "collapsed": true
   },
   "outputs": [],
   "source": []
  },
  {
   "cell_type": "code",
   "execution_count": null,
   "metadata": {
    "collapsed": true
   },
   "outputs": [],
   "source": []
  }
 ],
 "metadata": {
  "kernelspec": {
   "display_name": "Python 2",
   "language": "python",
   "name": "python2"
  },
  "language_info": {
   "codemirror_mode": {
    "name": "ipython",
    "version": 2
   },
   "file_extension": ".py",
   "mimetype": "text/x-python",
   "name": "python",
   "nbconvert_exporter": "python",
   "pygments_lexer": "ipython2",
   "version": "2.7.11"
  }
 },
 "nbformat": 4,
 "nbformat_minor": 0
}
